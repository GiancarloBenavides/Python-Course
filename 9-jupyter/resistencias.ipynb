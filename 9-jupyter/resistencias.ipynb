{
 "cells": [
  {
   "cell_type": "markdown",
   "metadata": {},
   "source": [
    "![Topologias](../img/topologies.jpeg \"Topologías delta y estrella\")"
   ]
  },
  {
   "cell_type": "code",
   "execution_count": 5,
   "metadata": {},
   "outputs": [],
   "source": [
    "def delta_to_star(R1:float, R2:float, R3:float)->float:\n",
    "    RA = R3*R1/(R1 + R2 + R3)\n",
    "    RB = R1*R2/(R1 + R2 + R3)\n",
    "    RC = R2*R3/(R1 + R2 + R3)\n",
    "    return RA, RB, RC\n",
    "\n",
    "def star_to_delta(RA:float, RB:float, RC:float)->float:\n",
    "    R1 = (RA*RB + RB*RC + RC*RA)/RA\n",
    "    R2 = (RA*RB + RB*RC + RC*RA)/RB\n",
    "    R3 = (RA*RB + RB*RC + RC*RA)/RC\n",
    "    return R1, R2, R3\n"
   ]
  },
  {
   "cell_type": "markdown",
   "metadata": {},
   "source": [
    "![Circuito](../img/circuit.jpeg \"circuito de aplicación\")"
   ]
  },
  {
   "cell_type": "code",
   "execution_count": 6,
   "metadata": {},
   "outputs": [
    {
     "name": "stdout",
     "output_type": "stream",
     "text": [
      "2000\n"
     ]
    }
   ],
   "source": [
    "R1, R2, R3, R4, R5, R6, R7, R8, R9, R10, R11 = list([1_000 for x in range(11)])\n",
    "\n",
    "R98=R9+R8\n",
    "R13=R1+R3\n",
    "\n",
    "print(R98)"
   ]
  },
  {
   "cell_type": "code",
   "execution_count": 9,
   "metadata": {},
   "outputs": [
    {
     "name": "stdout",
     "output_type": "stream",
     "text": [
      "ra:  500.0 500.0\n",
      "ra:  250.0 250.0\n",
      "ra:  500.0 500.0\n"
     ]
    }
   ],
   "source": [
    "ra1, rb1,rc1 = delta_to_star(R2,R5,R98)\n",
    "ra2, rb2,rc2 = delta_to_star(R6,R10,R13)\n",
    "\n",
    "print(\"ra: \", ra1, ra2)\n",
    "print(\"ra: \", rb1, rb2)\n",
    "print(\"ra: \", rc1, rc2)"
   ]
  },
  {
   "cell_type": "code",
   "execution_count": 10,
   "metadata": {},
   "outputs": [
    {
     "name": "stdout",
     "output_type": "stream",
     "text": [
      "ra:  500.0 500.0\n",
      "ra:  250.0 250.0\n",
      "ra:  500.0 500.0\n"
     ]
    }
   ],
   "source": [
    "ra3, rb3,rc3 = delta_to_star(R2,R5,R98)\n",
    "ra4, rb4,rc4 = delta_to_star(R6,R10,R13)\n",
    "\n",
    "print(\"ra: \", ra3, ra4)\n",
    "print(\"ra: \", rb3, rb4)\n",
    "print(\"ra: \", rc3, rc4)"
   ]
  }
 ],
 "metadata": {
  "kernelspec": {
   "display_name": "Python 3.10.6 64-bit",
   "language": "python",
   "name": "python3"
  },
  "language_info": {
   "codemirror_mode": {
    "name": "ipython",
    "version": 3
   },
   "file_extension": ".py",
   "mimetype": "text/x-python",
   "name": "python",
   "nbconvert_exporter": "python",
   "pygments_lexer": "ipython3",
   "version": "3.10.6"
  },
  "orig_nbformat": 4,
  "vscode": {
   "interpreter": {
    "hash": "916dbcbb3f70747c44a77c7bcd40155683ae19c65e1c03b4aa3499c5328201f1"
   }
  }
 },
 "nbformat": 4,
 "nbformat_minor": 2
}
